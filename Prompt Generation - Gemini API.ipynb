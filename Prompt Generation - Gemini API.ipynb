{
 "cells": [
  {
   "cell_type": "markdown",
   "id": "5d72af7d-1756-424d-8234-407afe626e16",
   "metadata": {},
   "source": [
    "### Prompt Generation Using Gemini API"
   ]
  },
  {
   "cell_type": "code",
   "execution_count": 7,
   "id": "e9476cb0-fa1a-4358-827d-de9a2cbf0c15",
   "metadata": {},
   "outputs": [
    {
     "data": {
      "text/markdown": [
       "> **Motivational Message**\n",
       "> \n",
       "> Within the depths of your being, a flame burns brightly, a flame of untapped potential and limitless possibilities. You possess an indomitable spirit, capable of overcoming any obstacle that stands in your path.\n",
       "> \n",
       "> Remember that your worth is not defined by your setbacks or failures. They are merely stepping stones on your journey towards greatness. With every fall, you have the opportunity to rise again, stronger and more determined than before.\n",
       "> \n",
       "> Embrace the challenges that come your way. They are the crucible in which your resilience and determination are forged. Embrace the unknown, for it holds the possibility of boundless growth and adventure.\n",
       "> \n",
       "> Believe in yourself, for you are capable of achieving anything you set your mind to. When doubt creeps in, silence it with the unwavering conviction of your own abilities. Focus on your strengths, develop your talents, and never cease to strive for excellence.\n",
       "> \n",
       "> Surround yourself with positivity and support. Seek out those who uplift you, inspire you, and remind you of your worth. Together, you will create a powerful force that will propel you forward towards your dreams.\n",
       "> \n",
       "> Remember, the journey to self-confidence is not always easy, but it is worth every step you take. It is a journey that will empower you, ignite your passion, and ultimately lead you to a life of purpose, fulfillment, and relentless pursuit.\n",
       "> \n",
       "> So, stand tall, my friend, with your head held high and your heart filled with unwavering belief. You are destined for greatness. Go forth and conquer the world with the indomitable spirit that resides within you."
      ],
      "text/plain": [
       "<IPython.core.display.Markdown object>"
      ]
     },
     "execution_count": 7,
     "metadata": {},
     "output_type": "execute_result"
    }
   ],
   "source": [
    "import pathlib\n",
    "import textwrap\n",
    "\n",
    "import google.generativeai as genai\n",
    "\n",
    "from IPython.display import display\n",
    "from IPython.display import Markdown\n",
    "\n",
    "import os\n",
    "from dotenv import load_dotenv, find_dotenv\n",
    "from pathlib import Path\n",
    "load_dotenv(Path(\".env\"))\n",
    "\n",
    "def to_markdown(text):\n",
    "  text = text.replace('•', '  *')\n",
    "  return Markdown(textwrap.indent(text, '> ', predicate=lambda _: True))\n",
    "\n",
    "GEMINI_API_KEY = os.getenv(\"GEMINI_API_KEY\")\n",
    "\n",
    "genai.configure(api_key=GEMINI_API_KEY)\n",
    "\n",
    "prompt = \"\"\"\n",
    "Generate a motivational message or pep talk aimed at boosting someone's confidence or morale.\n",
    "\"\"\"\n",
    "\n",
    "model = genai.GenerativeModel('gemini-pro')\n",
    "\n",
    "response = model.generate_content(prompt)\n",
    "\n",
    "to_markdown(response.text)\n",
    "\n"
   ]
  },
  {
   "cell_type": "code",
   "execution_count": null,
   "id": "8bb90a45-9cdf-4fe2-a67c-21dccc1111e5",
   "metadata": {},
   "outputs": [],
   "source": []
  }
 ],
 "metadata": {
  "kernelspec": {
   "display_name": "Python 3 (ipykernel)",
   "language": "python",
   "name": "python3"
  },
  "language_info": {
   "codemirror_mode": {
    "name": "ipython",
    "version": 3
   },
   "file_extension": ".py",
   "mimetype": "text/x-python",
   "name": "python",
   "nbconvert_exporter": "python",
   "pygments_lexer": "ipython3",
   "version": "3.11.3"
  }
 },
 "nbformat": 4,
 "nbformat_minor": 5
}
